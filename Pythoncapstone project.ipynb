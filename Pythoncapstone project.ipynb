{
 "cells": [
  {
   "cell_type": "markdown",
   "id": "f4972a29-4add-4afd-9083-5e6e627f2f9b",
   "metadata": {},
   "source": [
    "# Capstone Project - Python Fundamentals\n",
    "\n",
    "This notebook contains solutions for all the tasks in the capstone project."
   ]
  },
  {
   "cell_type": "code",
   "execution_count": 2,
   "id": "66c3c892-f5c3-4bf4-b00c-e251a635d6de",
   "metadata": {},
   "outputs": [],
   "source": [
    "import pandas as pd\n",
    "import numpy as np"
   ]
  },
  {
   "cell_type": "code",
   "execution_count": 4,
   "id": "98b3aa8d-306e-4826-a64a-d21536a87a52",
   "metadata": {},
   "outputs": [],
   "source": [
    "# Task 1: Create DataFrames and Save as CSV\n",
    "\n",
    "# Employee DataFrame\n",
    "df_employee = pd.DataFrame({\n",
    "    'ID': ['A001', 'A002', 'A003', 'A004', 'A005'],\n",
    "    'Name': ['John Alter', 'Alice Luxumberg', 'Tom Sabestine', 'Nina Adgra', 'Amy Johny'],\n",
    "    'Gender': ['M', 'F', 'M', 'F', 'F'],\n",
    "    'City': ['Paris', 'London', 'Berlin', 'Newyork', 'Madrid'],\n",
    "    'Age': [25, 27, 29, 31, 30]\n",
    "})\n",
    "df_employee.to_csv('Employee.csv', index=False)"
   ]
  },
  {
   "cell_type": "code",
   "execution_count": 6,
   "id": "e497a05f-9139-420a-99f1-7a604b7dfaa5",
   "metadata": {},
   "outputs": [
    {
     "name": "stdout",
     "output_type": "stream",
     "text": [
      "     ID             Name Gender     City  Age\n",
      "0  A001       John Alter      M    Paris   25\n",
      "1  A002  Alice Luxumberg      F   London   27\n",
      "2  A003    Tom Sabestine      M   Berlin   29\n",
      "3  A004       Nina Adgra      F  Newyork   31\n",
      "4  A005        Amy Johny      F   Madrid   30\n"
     ]
    }
   ],
   "source": [
    "df = pd.read_csv(\"Employee.csv\")\n",
    "print(df.head())"
   ]
  },
  {
   "cell_type": "code",
   "execution_count": 8,
   "id": "8b9751b8-ffdb-484f-98d9-95331eb39497",
   "metadata": {},
   "outputs": [],
   "source": [
    "# Seniority Level DataFrame\n",
    "df_seniority = pd.DataFrame({\n",
    "    'ID': ['A001', 'A002', 'A003', 'A004', 'A005'],\n",
    "    'Designation Level': [2, 2, 3, 2, 3]\n",
    "})\n",
    "df_seniority.to_csv('Seniority.csv', index=False)"
   ]
  },
  {
   "cell_type": "code",
   "execution_count": 10,
   "id": "3e7da2be-b814-480b-bb01-af63377c0d46",
   "metadata": {},
   "outputs": [
    {
     "name": "stdout",
     "output_type": "stream",
     "text": [
      "     ID  Designation Level\n",
      "0  A001                  2\n",
      "1  A002                  2\n",
      "2  A003                  3\n",
      "3  A004                  2\n",
      "4  A005                  3\n"
     ]
    }
   ],
   "source": [
    "df = pd.read_csv(\"seniority.csv\")\n",
    "print(df.head())"
   ]
  },
  {
   "cell_type": "code",
   "execution_count": 12,
   "id": "afad8487-abf2-47e5-9ec2-b294bdec7cd6",
   "metadata": {},
   "outputs": [],
   "source": [
    "# Project DataFrame\n",
    "df_project = pd.DataFrame({\n",
    "    'ID': ['A001', 'A002', 'A003', 'A004', 'A005', 'A002', 'A005', 'A003', 'A001', 'A003', 'A001', 'A004', 'A004', 'A005'],\n",
    "    'Project': ['Project 1', 'Project 2', 'Project 3', 'Project 4', 'Project 5', 'Project 6', 'Project 7', 'Project 8', 'Project 9', 'Project 10', 'Project 11', 'Project 12', 'Project 13', 'Project 14'],\n",
    "    'Cost': [1002000, 2000000, 4500000, 5500000, np.nan, 680000, 400000, 350000, np.nan, 300000, 2000000, 1000000, 3000000, 200000],\n",
    "    'Status': ['Finished', 'Ongoing', 'Finished', 'Ongoing', 'Finished', 'Failed', 'Finished', 'Failed', 'Ongoing', 'Finished', 'Failed', 'Ongoing', 'Finished', 'Finished']\n",
    "})\n",
    "df_project.to_csv('Project.csv', index=False)"
   ]
  },
  {
   "cell_type": "code",
   "execution_count": 14,
   "id": "cda8c06b-0d87-499d-b3cd-1787cafe6582",
   "metadata": {},
   "outputs": [
    {
     "name": "stdout",
     "output_type": "stream",
     "text": [
      "     ID    Project       Cost    Status\n",
      "0  A001  Project 1  1002000.0  Finished\n",
      "1  A002  Project 2  2000000.0   Ongoing\n",
      "2  A003  Project 3  4500000.0  Finished\n",
      "3  A004  Project 4  5500000.0   Ongoing\n",
      "4  A005  Project 5        NaN  Finished\n"
     ]
    }
   ],
   "source": [
    "df = pd.read_csv(\"project.csv\")\n",
    "print(df.head())"
   ]
  },
  {
   "cell_type": "code",
   "execution_count": 24,
   "id": "8ee4bead-3a61-4d0d-a006-639e60c009df",
   "metadata": {},
   "outputs": [
    {
     "name": "stdout",
     "output_type": "stream",
     "text": [
      "      ID     Project       Cost    Status\n",
      "0   A001   Project 1  1002000.0  Finished\n",
      "1   A002   Project 2  2000000.0   Ongoing\n",
      "2   A003   Project 3  4500000.0  Finished\n",
      "3   A004   Project 4  5500000.0   Ongoing\n",
      "4   A005   Project 5  3250500.0  Finished\n",
      "5   A002   Project 6   680000.0    Failed\n",
      "6   A005   Project 7   400000.0  Finished\n",
      "7   A003   Project 8   350000.0    Failed\n",
      "8   A001   Project 9  2210312.5   Ongoing\n",
      "9   A003  Project 10   300000.0  Finished\n",
      "10  A001  Project 11  2000000.0    Failed\n",
      "11  A004  Project 12  1000000.0   Ongoing\n",
      "12  A004  Project 13  3000000.0  Finished\n",
      "13  A005  Project 14   200000.0  Finished\n"
     ]
    }
   ],
   "source": [
    "# Task 2: Fill missing cost values with running average\n",
    "cost_values = df_project['Cost'].values\n",
    "for i in range(len(cost_values)):\n",
    "    if np.isnan(cost_values[i]):\n",
    "        cost_values[i] = np.nanmean(cost_values[:i])  # Running average\n",
    "\n",
    "df_project['Cost'] = cost_values\n",
    "df_project.to_csv('Project.csv', index=False)\n",
    "print(df_project)\n"
   ]
  },
  {
   "cell_type": "code",
   "execution_count": 29,
   "id": "d75f1fbb-a8a6-4dbf-bc33-5fcf03d3166d",
   "metadata": {},
   "outputs": [
    {
     "name": "stdout",
     "output_type": "stream",
     "text": [
      "     ID             Name Gender     City  Age First Name  Last Name\n",
      "0  A001       John Alter      M    Paris   25       John      Alter\n",
      "1  A002  Alice Luxumberg      F   London   27      Alice  Luxumberg\n",
      "2  A003    Tom Sabestine      M   Berlin   29        Tom  Sabestine\n",
      "3  A004       Nina Adgra      F  Newyork   31       Nina      Adgra\n",
      "4  A005        Amy Johny      F   Madrid   30        Amy      Johny\n"
     ]
    }
   ],
   "source": [
    "# Task 3: Split Name Column\n",
    "df_employee['Name'] = df_employee['Name'].astype(str)  # Ensure it's a string column\n",
    "df_employee[['First Name', 'Last Name']] = df_employee['Name'].str.split(' ', n=1, expand=True)\n",
    "print(df_employee)"
   ]
  },
  {
   "cell_type": "code",
   "execution_count": 38,
   "id": "854548a4-ad97-4bab-8027-b56e535aa72b",
   "metadata": {},
   "outputs": [
    {
     "name": "stdout",
     "output_type": "stream",
     "text": [
      "      ID             Name Gender     City  Age First Name  Last Name  \\\n",
      "0   A001       John Alter      M    Paris   25       John      Alter   \n",
      "1   A001       John Alter      M    Paris   25       John      Alter   \n",
      "2   A001       John Alter      M    Paris   25       John      Alter   \n",
      "3   A002  Alice Luxumberg      F   London   27      Alice  Luxumberg   \n",
      "4   A002  Alice Luxumberg      F   London   27      Alice  Luxumberg   \n",
      "5   A003    Tom Sabestine      M   Berlin   29        Tom  Sabestine   \n",
      "6   A003    Tom Sabestine      M   Berlin   29        Tom  Sabestine   \n",
      "7   A003    Tom Sabestine      M   Berlin   29        Tom  Sabestine   \n",
      "8   A004       Nina Adgra      F  Newyork   31       Nina      Adgra   \n",
      "9   A004       Nina Adgra      F  Newyork   31       Nina      Adgra   \n",
      "10  A004       Nina Adgra      F  Newyork   31       Nina      Adgra   \n",
      "11  A005        Amy Johny      F   Madrid   30        Amy      Johny   \n",
      "12  A005        Amy Johny      F   Madrid   30        Amy      Johny   \n",
      "13  A005        Amy Johny      F   Madrid   30        Amy      Johny   \n",
      "\n",
      "    Designation Level     Project       Cost    Status  \n",
      "0                   2   Project 1  1002000.0  Finished  \n",
      "1                   2   Project 9  2210312.5   Ongoing  \n",
      "2                   2  Project 11  2000000.0    Failed  \n",
      "3                   2   Project 2  2000000.0   Ongoing  \n",
      "4                   2   Project 6   680000.0    Failed  \n",
      "5                   3   Project 3  4500000.0  Finished  \n",
      "6                   3   Project 8   350000.0    Failed  \n",
      "7                   3  Project 10   300000.0  Finished  \n",
      "8                   2   Project 4  5500000.0   Ongoing  \n",
      "9                   2  Project 12  1000000.0   Ongoing  \n",
      "10                  2  Project 13  3000000.0  Finished  \n",
      "11                  3   Project 5  3250500.0  Finished  \n",
      "12                  3   Project 7   400000.0  Finished  \n",
      "13                  3  Project 14   200000.0  Finished  \n"
     ]
    }
   ],
   "source": [
    "# Task 4: Merge all DataFrames\n",
    "final_df = df_employee.merge(df_seniority, on='ID').merge(df_project, on='ID')\n",
    "final_df.to_csv('Final.csv', index=False)\n",
    "print(final_df) "
   ]
  },
  {
   "cell_type": "code",
   "execution_count": 44,
   "id": "ab07695e-8919-4a45-9ec2-729e35fdc280",
   "metadata": {},
   "outputs": [
    {
     "name": "stdout",
     "output_type": "stream",
     "text": [
      "     ID    Project     Cost    Status     Bonus\n",
      "0  A001  Project 1  1002000  Finished   50100.0\n",
      "1  A002  Project 2  2000000   Ongoing       0.0\n",
      "2  A003  Project 3  4500000  Finished  225000.0\n",
      "3  A004  Project 4  5500000   Ongoing       0.0\n",
      "4  A005  Project 5  3251000  Finished  162550.0\n"
     ]
    }
   ],
   "source": [
    "# Task 5: Add Bonus Column\n",
    "final_df['Bonus'] = np.where(final_df['Status'] == 'Finished', final_df['Cost'] * 0.05, 0)\n",
    "print(final_df)"
   ]
  },
  {
   "cell_type": "code",
   "execution_count": 59,
   "id": "476d1b66-424e-45de-9f74-78ded70c388a",
   "metadata": {},
   "outputs": [
    {
     "name": "stdout",
     "output_type": "stream",
     "text": [
      "     ID First Name  Designation Level    Status\n",
      "0  A001       John                  2  Finished\n",
      "1  A002      Alice                  4    Failed\n",
      "2  A003        Tom                  3   Ongoing\n",
      "3  A004       Nina                  4    Failed\n",
      "4  A005        Amy                  3  Finished\n"
     ]
    }
   ],
   "source": [
    "# Task 6: Demote Designation Level and Remove Ineligible Employees\n",
    "# Demote employees whose projects failed\n",
    "for idx, row in final_df.iterrows():\n",
    "    if row['Status'] == 'Failed':\n",
    "        final_df.at[idx, 'Designation Level'] += 1  # Increase level (demotion)\n",
    "\n",
    "# Remove employees whose designation level exceeds 4\n",
    "final_df = final_df[final_df['Designation Level'] <= 4]\n",
    "\n",
    "# Display the updated DataFrame\n",
    "print(final_df) "
   ]
  },
  {
   "cell_type": "code",
   "execution_count": 78,
   "id": "0533d85f-13f4-44fa-a850-8fe101c97c9c",
   "metadata": {},
   "outputs": [
    {
     "name": "stdout",
     "output_type": "stream",
     "text": [
      "     ID  First Name  Last Name     City  Age\n",
      "0  A001    Mr. John      Alter    Paris   25\n",
      "1  A002  Mrs. Alice  Luxumberg   London   27\n",
      "2  A003     Mr. Tom  Sabestine   Berlin   29\n",
      "3  A004   Mrs. Nina      Adgra  Newyork   31\n",
      "4  A005    Mrs. Amy      Johny   Madrid   30\n"
     ]
    }
   ],
   "source": [
    "# Task 7: Add Mr./Mrs. to First Name and Drop Gender\n",
    "import pandas as pd\n",
    "import numpy as np\n",
    "\n",
    "# Sample Data (Final Merged DataFrame)\n",
    "final_df = pd.DataFrame({\n",
    "    'ID': ['A001', 'A002', 'A003', 'A004', 'A005'],\n",
    "    'First Name': ['John', 'Alice', 'Tom', 'Nina', 'Amy'],\n",
    "    'Last Name': ['Alter', 'Luxumberg', 'Sabestine', 'Adgra', 'Johny'],\n",
    "    'Gender': ['M', 'F', 'M', 'F', 'F'],\n",
    "    'City': ['Paris', 'London', 'Berlin', 'Newyork', 'Madrid'],\n",
    "    'Age': [25, 27, 29, 31, 30]\n",
    "})\n",
    "\n",
    "# Add Mr./Mrs. to First Name\n",
    "final_df['First Name'] = np.where(final_df['Gender'] == 'M', 'Mr. ' + final_df['First Name'], 'Mrs. ' + final_df['First Name'])\n",
    "\n",
    "# Drop Gender Column\n",
    "final_df.drop(columns=['Gender'], inplace=True)\n",
    "\n",
    "# Display the updated DataFrame\n",
    "print(final_df)  # <-- This will show the output\n"
   ]
  },
  {
   "cell_type": "code",
   "execution_count": 116,
   "id": "5c47a332-69c8-4ab8-bb3d-99a8bd2de3c0",
   "metadata": {},
   "outputs": [
    {
     "name": "stdout",
     "output_type": "stream",
     "text": [
      "Task 8 applied successfully!\n"
     ]
    }
   ],
   "source": [
    "if 'Designation Level' in final_df.columns:\n",
    "    final_df.loc[final_df['Age'] > 29, 'Designation Level'] = final_df.loc[final_df['Age'] > 29, 'Designation Level'].apply(lambda x: max(x - 1, 1))\n",
    "    print(\"Task 8 applied successfully!\")\n",
    "else:\n",
    "    print(\"Error: 'Designation Level' column not found in final_df!\")\n"
   ]
  },
  {
   "cell_type": "code",
   "execution_count": 118,
   "id": "069167c6-7f8b-477f-8c00-97bb8f47c957",
   "metadata": {},
   "outputs": [],
   "source": [
    "# Task 9: Compute Total Project Cost per Employee\n",
    "total_proj_cost = final_df.groupby(['ID', 'First Name'])['Cost'].sum().reset_index()\n",
    "total_proj_cost.rename(columns={'Cost': 'Total Cost'}, inplace=True)\n",
    "total_proj_cost.to_csv('TotalProjCost.csv', index=False)"
   ]
  },
  {
   "cell_type": "code",
   "execution_count": 120,
   "id": "e316f010-2ab2-4fef-84f2-7c6e53c6f90e",
   "metadata": {},
   "outputs": [],
   "source": [
    "# Task 10: Filter Employees with 'o' in City Name\n",
    "employees_with_o = final_df[final_df['City'].str.contains('o', case=False)]"
   ]
  },
  {
   "cell_type": "code",
   "execution_count": 122,
   "id": "c2f85446-d0d4-4c83-85e7-265a249ced1a",
   "metadata": {},
   "outputs": [
    {
     "name": "stdout",
     "output_type": "stream",
     "text": [
      "Tasks Completed Successfully!\n"
     ]
    }
   ],
   "source": [
    "# Save final DataFrame\n",
    "final_df.to_csv('Final.csv', index=False)\n",
    "print(\"Tasks Completed Successfully!\")"
   ]
  },
  {
   "cell_type": "code",
   "execution_count": 124,
   "id": "9e2a3b8d-6275-488a-b2ba-c1ef8005bfe5",
   "metadata": {},
   "outputs": [
    {
     "name": "stdout",
     "output_type": "stream",
     "text": [
      "Updated Final DataFrame:\n",
      "      ID First Name  Designation Level  Age\n",
      "0   A001       John                  2   25\n",
      "1   A001       John                  2   25\n",
      "2   A001       John                  2   25\n",
      "3   A002      Alice                  2   27\n",
      "4   A002      Alice                  2   27\n",
      "5   A003        Tom                  3   29\n",
      "6   A003        Tom                  3   29\n",
      "7   A003        Tom                  3   29\n",
      "8   A004       Nina                  1   31\n",
      "9   A004       Nina                  1   31\n",
      "10  A004       Nina                  1   31\n",
      "11  A005        Amy                  2   30\n",
      "12  A005        Amy                  2   30\n",
      "13  A005        Amy                  2   30\n"
     ]
    }
   ],
   "source": [
    "# Display outputs\n",
    "print(\"Updated Final DataFrame:\")\n",
    "print(final_df[['ID', 'First Name', 'Designation Level', 'Age']])"
   ]
  },
  {
   "cell_type": "code",
   "execution_count": null,
   "id": "2a10c2d5-9c2b-45c1-9a12-46f9a66188fa",
   "metadata": {},
   "outputs": [],
   "source": []
  }
 ],
 "metadata": {
  "kernelspec": {
   "display_name": "Python 3 (ipykernel)",
   "language": "python",
   "name": "python3"
  },
  "language_info": {
   "codemirror_mode": {
    "name": "ipython",
    "version": 3
   },
   "file_extension": ".py",
   "mimetype": "text/x-python",
   "name": "python",
   "nbconvert_exporter": "python",
   "pygments_lexer": "ipython3",
   "version": "3.12.7"
  }
 },
 "nbformat": 4,
 "nbformat_minor": 5
}
